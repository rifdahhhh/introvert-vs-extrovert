{
 "cells": [
  {
   "cell_type": "markdown",
   "id": "fc15071d",
   "metadata": {},
   "source": [
    "# Import Library"
   ]
  },
  {
   "cell_type": "code",
   "execution_count": 2,
   "id": "e485f5d8",
   "metadata": {},
   "outputs": [],
   "source": [
    "import tensorflow as tf\n",
    "import pandas as pd\n",
    "import requests\n",
    "import json\n",
    "import base64\n",
    "import random\n"
   ]
  },
  {
   "cell_type": "code",
   "execution_count": 3,
   "id": "4d55bc6b",
   "metadata": {},
   "outputs": [
    {
     "data": {
      "text/plain": [
       "{'Time_spent_Alone': 3.0,\n",
       " 'Stage_fear': 'No',\n",
       " 'Social_event_attendance': 2.0,\n",
       " 'Going_outside': 3.0,\n",
       " 'Drained_after_socializing': 'No',\n",
       " 'Friends_circle_size': 10.0,\n",
       " 'Post_frequency': 4.0}"
      ]
     },
     "execution_count": 3,
     "metadata": {},
     "output_type": "execute_result"
    }
   ],
   "source": [
    "df = pd.read_csv(\"data/personality_dataset.csv\")\n",
    "df.pop(\"Personality\")  # Kolom target\n",
    "\n",
    "columns = df.columns.values\n",
    "rand = random.randint(0, len(df) - 1)\n",
    "\n",
    "features = df.values[rand]\n",
    "\n",
    "inputs = {key: value for key, value in zip(columns, features)}\n",
    "inputs\n"
   ]
  },
  {
   "cell_type": "code",
   "execution_count": 4,
   "id": "86b3782d",
   "metadata": {},
   "outputs": [],
   "source": [
    "def string_feature(value):\n",
    "    return tf.train.Feature(\n",
    "        bytes_list=tf.train.BytesList(value=[bytes(value, \"utf-8\")])\n",
    "    )\n",
    "\n",
    "def float_feature(value):\n",
    "    return tf.train.Feature(float_list=tf.train.FloatList(value=[value]))\n",
    "\n",
    "def int_feature(value):\n",
    "    return tf.train.Feature(int64_list=tf.train.Int64List(value=[value]))\n"
   ]
  },
  {
   "cell_type": "code",
   "execution_count": 5,
   "id": "51d6d620",
   "metadata": {},
   "outputs": [],
   "source": [
    "def prepare_json(inputs: dict):\n",
    "    feature_spec = dict()\n",
    "\n",
    "    for key, value in inputs.items():\n",
    "        if isinstance(value, float):\n",
    "            feature_spec[key] = float_feature(value)\n",
    "        elif isinstance(value, int):\n",
    "            feature_spec[key] = int_feature(value)\n",
    "        elif isinstance(value, str):\n",
    "            feature_spec[key] = string_feature(value)\n",
    "\n",
    "    example = tf.train.Example(\n",
    "        features=tf.train.Features(feature=feature_spec)\n",
    "    ).SerializeToString()\n",
    "\n",
    "    result = [\n",
    "        {\n",
    "            \"examples\": {\n",
    "                \"b64\": base64.b64encode(example).decode()\n",
    "            }\n",
    "        }\n",
    "    ]\n",
    "\n",
    "    return json.dumps({\n",
    "        \"signature_name\": \"serving_default\",\n",
    "        \"instances\": result\n",
    "    })\n"
   ]
  },
  {
   "cell_type": "code",
   "execution_count": 11,
   "id": "7a2e5790",
   "metadata": {},
   "outputs": [],
   "source": [
    "def make_predictions(inputs):\n",
    "    json_data = prepare_json(inputs)\n",
    "\n",
    "    endpoint = \"https://mlops-submission-production.up.railway.app/v1/models/personality_model:predict\"\n",
    "    response = requests.post(endpoint, data=json_data)\n",
    "\n",
    "    try:\n",
    "        prediction = response.json()[\"predictions\"][0]  # [0.959925294]\n",
    "\n",
    "        # Ambil nilai float dari list\n",
    "        value = prediction[0] if isinstance(prediction, list) else prediction\n",
    "\n",
    "        label = \"Extrovert\" if value > 0.5 else \"Introvert\"\n",
    "        return label\n",
    "\n",
    "    except Exception as e:\n",
    "        return f\"Error: {e}\\nResponse: {response.text}\"\n"
   ]
  },
  {
   "cell_type": "code",
   "execution_count": 12,
   "id": "cc39393d",
   "metadata": {},
   "outputs": [
    {
     "data": {
      "text/plain": [
       "'Extrovert'"
      ]
     },
     "execution_count": 12,
     "metadata": {},
     "output_type": "execute_result"
    }
   ],
   "source": [
    "make_predictions(inputs)"
   ]
  },
  {
   "cell_type": "code",
   "execution_count": null,
   "id": "df28e6bf",
   "metadata": {},
   "outputs": [],
   "source": []
  }
 ],
 "metadata": {
  "kernelspec": {
   "display_name": "mlops-tfx",
   "language": "python",
   "name": "python3"
  },
  "language_info": {
   "codemirror_mode": {
    "name": "ipython",
    "version": 3
   },
   "file_extension": ".py",
   "mimetype": "text/x-python",
   "name": "python",
   "nbconvert_exporter": "python",
   "pygments_lexer": "ipython3",
   "version": "3.8.18"
  }
 },
 "nbformat": 4,
 "nbformat_minor": 5
}
